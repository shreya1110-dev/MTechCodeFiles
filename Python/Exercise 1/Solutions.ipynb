{
  "nbformat": 4,
  "nbformat_minor": 0,
  "metadata": {
    "colab": {
      "provenance": [],
      "authorship_tag": "ABX9TyM/XdJeexf8pltw3FxaYSYf",
      "include_colab_link": true
    },
    "kernelspec": {
      "name": "python3",
      "display_name": "Python 3"
    },
    "language_info": {
      "name": "python"
    }
  },
  "cells": [
    {
      "cell_type": "markdown",
      "metadata": {
        "id": "view-in-github",
        "colab_type": "text"
      },
      "source": [
        "<a href=\"https://colab.research.google.com/github/shreya1110-dev/MTechCodeFiles/blob/main/Python/Exercise%201/Solutions.ipynb\" target=\"_parent\"><img src=\"https://colab.research.google.com/assets/colab-badge.svg\" alt=\"Open In Colab\"/></a>"
      ]
    },
    {
      "cell_type": "markdown",
      "source": [
        "Variable Types and Output: Declare four variables, each holding a value of a\n",
        "different data type: integer, float, string, and boolean. Assign values that make\n",
        "sense for each type (e.g., an age, a price, a name, a True/False state). Print the\n",
        "value of each variable followed by its data type obtained using the type()\n",
        "function."
      ],
      "metadata": {
        "id": "tRm3RrvRAI0t"
      }
    },
    {
      "cell_type": "code",
      "execution_count": null,
      "metadata": {
        "colab": {
          "base_uri": "https://localhost:8080/"
        },
        "id": "bkRCWXWG_wZS",
        "outputId": "575521d1-3a71-4bff-b3bc-653de65c73f1"
      },
      "outputs": [
        {
          "output_type": "stream",
          "name": "stdout",
          "text": [
            "24 <class 'int'>\n",
            "20.5 <class 'float'>\n",
            "Shreya <class 'str'>\n",
            "False <class 'bool'>\n"
          ]
        }
      ],
      "source": [
        "age = 24\n",
        "cost = 20.5\n",
        "name = \"Shreya\"\n",
        "is_raining = False\n",
        "\n",
        "print(age, type(age))\n",
        "print(cost, type(cost))\n",
        "print(name, type(name))\n",
        "print(is_raining, type(is_raining))"
      ]
    },
    {
      "cell_type": "markdown",
      "source": [
        "Basic Input and Arithmetic: Get two numbers from the user as input. One should\n",
        "be an integer and the other a float. Calculate and print their sum, difference, product, and the result of dividing the float by the integer. Format the results of\n",
        "calculations to two decimal places using f-strings or the .format() method."
      ],
      "metadata": {
        "id": "miyA0kGPAI4L"
      }
    },
    {
      "cell_type": "code",
      "source": [
        "a = int(input(\"Enter integer number: \"))\n",
        "b = float(input(\"Enter float number: \"))\n",
        "print(\"Sum: \", \"{:.2f}\".format(a+b))\n",
        "print(\"Difference\", \"{:.2f}\".format(a-b))\n",
        "print(\"Product\", \"{:.2f}\".format(a*b))\n",
        "print(\"Division\", \"{:.2f}\".format(b/a))"
      ],
      "metadata": {
        "colab": {
          "base_uri": "https://localhost:8080/"
        },
        "id": "ZYeNRCnVBQH-",
        "outputId": "0899f398-9452-479b-e6ae-3534dd822395"
      },
      "execution_count": null,
      "outputs": [
        {
          "output_type": "stream",
          "name": "stdout",
          "text": [
            "Enter integer number: 382\n",
            "Enter float number: 39492.323454\n",
            "Sum:  39874.32\n",
            "Difference -39110.32\n",
            "Product 15086067.56\n",
            "Division 103.38\n"
          ]
        }
      ]
    },
    {
      "cell_type": "markdown",
      "source": [
        "Formatted Output (f-strings): Ask the user for their favorite programming\n",
        "language and their experience level (e.g., \"Beginner\", \"Intermediate\"). Use an f-\n",
        "string to create and print a sentence summarizing this information, such as \"You\n",
        "are a [Experience Level] in [Programming Language]."
      ],
      "metadata": {
        "id": "7z2Dba91AI7V"
      }
    },
    {
      "cell_type": "code",
      "source": [
        "programming_language = input(\"Enter programming language: \")\n",
        "experience_level = input(\"Enter experience level: \")\n",
        "print(f\"You are a {experience_level} in {programming_language}.\")"
      ],
      "metadata": {
        "colab": {
          "base_uri": "https://localhost:8080/"
        },
        "id": "quSSZBf5CqFS",
        "outputId": "04f1c2e5-048d-4f19-a57f-04ef19f7384e"
      },
      "execution_count": null,
      "outputs": [
        {
          "output_type": "stream",
          "name": "stdout",
          "text": [
            "Enter programming language: Python\n",
            "Enter experience level: Intermediate\n",
            "You are a Intermediate in Python.\n"
          ]
        }
      ]
    },
    {
      "cell_type": "markdown",
      "source": [
        "Simple Type Casting: Prompt the user to enter a number as text (e.g., \"105\").\n",
        "Convert this input string to an integer and then to a float using type casting\n",
        "functions like int() and float(). Print the original input and the results of both\n",
        "conversions along with their types"
      ],
      "metadata": {
        "id": "cI21hGIoC_Rr"
      }
    },
    {
      "cell_type": "code",
      "source": [
        "number = input(\"Enter number: \")\n",
        "print(number, type(number))\n",
        "\n",
        "int_number = int(number)\n",
        "print(int_number, type(int_number))\n",
        "\n",
        "float_number = float(number)\n",
        "print(float_number, type(float_number))"
      ],
      "metadata": {
        "colab": {
          "base_uri": "https://localhost:8080/"
        },
        "id": "wpLgBdiZC_cr",
        "outputId": "f93e2b8a-a444-49e8-d61c-0751867a66c7"
      },
      "execution_count": null,
      "outputs": [
        {
          "output_type": "stream",
          "name": "stdout",
          "text": [
            "Enter number23627\n",
            "23627 <class 'str'>\n",
            "23627 <class 'int'>\n",
            "23627.0 <class 'float'>\n"
          ]
        }
      ]
    },
    {
      "cell_type": "markdown",
      "source": [
        "Function Introduction: Write a Python function called greet(name) that takes one\n",
        "string argument name and prints a simple greeting message like \"Hello, [name]!\n",
        "Welcome to Python programming.\" Call this function with a name provided by\n",
        "the user input."
      ],
      "metadata": {
        "id": "pXGaUDdSDdVZ"
      }
    },
    {
      "cell_type": "code",
      "source": [
        "def greet(name):\n",
        "  print(f\"Hello,{name}! Welcome to Python programming.\")\n",
        "\n",
        "name = input(\"Enter name: \")\n",
        "greet(name)"
      ],
      "metadata": {
        "colab": {
          "base_uri": "https://localhost:8080/"
        },
        "id": "Bp2-IBifDdrv",
        "outputId": "1a8d4174-abfc-4833-d3be-53f65fb99ecb"
      },
      "execution_count": null,
      "outputs": [
        {
          "output_type": "stream",
          "name": "stdout",
          "text": [
            "Enter name: Shreya\n",
            "Hello,Shreya! Welcome to Python programming.\n"
          ]
        }
      ]
    },
    {
      "cell_type": "markdown",
      "source": [
        "Handling Multiple Inputs on One Line: Ask the user to enter three numbers on a\n",
        "single line, separated by spaces (e.g., \"10 20 30\"). Read this input, split the string\n",
        "into individual number strings, convert them to integers, and calculate and print\n",
        "their average."
      ],
      "metadata": {
        "id": "QQQnC_j_D9lu"
      }
    },
    {
      "cell_type": "code",
      "source": [
        "input_numbers = input(\"Enter numbers: \")\n",
        "numbers_list = [int(num) for num in input_numbers.split(\" \")]\n",
        "avg = sum(numbers_list) / len(numbers_list)\n",
        "print(\"Average: \", avg)"
      ],
      "metadata": {
        "colab": {
          "base_uri": "https://localhost:8080/"
        },
        "id": "o2tBSWzeD9bV",
        "outputId": "80f52cc0-4a4a-4b77-8f2f-6716cc64a603"
      },
      "execution_count": null,
      "outputs": [
        {
          "output_type": "stream",
          "name": "stdout",
          "text": [
            "Enter numbers: 10 20 30 40\n",
            "Average:  25.0\n"
          ]
        }
      ]
    },
    {
      "cell_type": "markdown",
      "source": [
        "Basic Error Handling for Input: Write a program that asks the user to enter an\n",
        "integer. Use a try-except block to specifically handle a potential ValueError if the\n",
        "user enters input that cannot be converted to an integer (e.g., text). Print a\n",
        "success message if conversion is successful, and a helpful error message\n",
        "otherwise."
      ],
      "metadata": {
        "id": "FxVMHWiuFBJi"
      }
    },
    {
      "cell_type": "code",
      "source": [
        "number = input(\"Enter number: \")\n",
        "\n",
        "try:\n",
        "  int_number = int(number)\n",
        "  print(\"Number\", int_number)\n",
        "except ValueError as ex:\n",
        "  print(f\"Exception caught: {ex}\")"
      ],
      "metadata": {
        "colab": {
          "base_uri": "https://localhost:8080/"
        },
        "id": "hg8wVrGEFBd0",
        "outputId": "becc3417-b6fc-431e-faee-5841b10e1c3a"
      },
      "execution_count": 15,
      "outputs": [
        {
          "output_type": "stream",
          "name": "stdout",
          "text": [
            "Enter number: yhhg\n",
            "Exception caught: invalid literal for int() with base 10: 'yhhg'\n"
          ]
        }
      ]
    },
    {
      "cell_type": "markdown",
      "source": [
        "Combined Basics and Error Handling: Create a program that calculates a\n",
        "person's Body Mass Index (BMI). Prompt the user for their height in meters and\n",
        "weight in kilograms. Implement robust error handling using a try-except block to\n",
        "catch ValueError for non-numeric input (in both height and weight) and\n",
        "ZeroDivisionError if the height entered is zero. Print the calculated BMI value or\n",
        "an appropriate error message indicating the specific issue"
      ],
      "metadata": {
        "id": "z6mxkApwQWG9"
      }
    },
    {
      "cell_type": "code",
      "source": [
        "try:\n",
        "  height = float(input(\"Enter height (mm): \"))\n",
        "  weight = float(input(\"Enter weight (kg): \"))\n",
        "  bmi = weight / (height * height)\n",
        "  print(f\"BMI: {bmi}\")\n",
        "except ValueError:\n",
        "  print(\"Give correct inputs\")\n",
        "except ZeroDivisionError:\n",
        "  print(\"Height cannot be zero\")"
      ],
      "metadata": {
        "id": "fHnXXJqqFeW8",
        "colab": {
          "base_uri": "https://localhost:8080/"
        },
        "outputId": "37af8c14-cdc8-49fb-a5fe-5a654e83c2bc"
      },
      "execution_count": 18,
      "outputs": [
        {
          "output_type": "stream",
          "name": "stdout",
          "text": [
            "Enter height (mm): 1.6\n",
            "Enter weight (kg): 60\n",
            "BMI: 23.437499999999996\n"
          ]
        }
      ]
    },
    {
      "cell_type": "markdown",
      "source": [
        "List Indexing and Slicing: Create a list containing the names of five different\n",
        "animal names. Print the animal at index 0, the animal at index 3, and a slice\n",
        "containing the last two animals in the list"
      ],
      "metadata": {
        "id": "ERwT7rwQRYyU"
      }
    },
    {
      "cell_type": "code",
      "source": [
        "animals_list = [\"tiger\", \"lion\", \"zebra\", \"goat\", \"cow\"]\n",
        "print(\"Index 0:\", animals_list[0])\n",
        "print(\"Index 3:\", animals_list[3])\n",
        "print(\"Last 2 animals:\", animals_list[-2:])"
      ],
      "metadata": {
        "colab": {
          "base_uri": "https://localhost:8080/"
        },
        "id": "nAPd7utiRcNb",
        "outputId": "bcdd355a-3319-42bc-c494-8ea32818c702"
      },
      "execution_count": 22,
      "outputs": [
        {
          "output_type": "stream",
          "name": "stdout",
          "text": [
            "Index 0: tiger\n",
            "Index 3: goat\n",
            "Last 2 animals: ['goat', 'cow']\n"
          ]
        }
      ]
    },
    {
      "cell_type": "markdown",
      "source": [
        "Tuple Creation and Access: Create a tuple containing the names of three\n",
        "different countries. Print the country at the first index and the country at the third\n",
        "index from the tuple using indexing."
      ],
      "metadata": {
        "id": "kiVlMsyLSLR0"
      }
    },
    {
      "cell_type": "code",
      "source": [
        "countries = (\"india\", \"vietnam\", \"malaysia\")\n",
        "print(\"First country:\", countries[0])\n",
        "print(\"Third country: \", countries[-1])"
      ],
      "metadata": {
        "colab": {
          "base_uri": "https://localhost:8080/"
        },
        "id": "NjJBwiQeSOg5",
        "outputId": "0b642603-b97c-4ed0-bb02-9475e3a11820"
      },
      "execution_count": 25,
      "outputs": [
        {
          "output_type": "stream",
          "name": "stdout",
          "text": [
            "First country: india\n",
            "Third country:  malaysia\n"
          ]
        }
      ]
    },
    {
      "cell_type": "markdown",
      "source": [
        "String Indexing and Slicing: Create a string variable city = \"Metropolis\". Print the\n",
        "first character, the character at index 5, and a slice containing characters from\n",
        "index 2 up to (but not including) index 6."
      ],
      "metadata": {
        "id": "Q0y_R6DzSslH"
      }
    },
    {
      "cell_type": "code",
      "source": [
        "city = \"Metropolis\"\n",
        "print(\"First character:\", city[0])\n",
        "print(\"Fifth character:\", city[5])\n",
        "print(\"Second to fifth:\", city[2:6])"
      ],
      "metadata": {
        "colab": {
          "base_uri": "https://localhost:8080/"
        },
        "id": "cXP93Pb2SW1Z",
        "outputId": "53cb3c00-d302-4207-d274-5885121c5919"
      },
      "execution_count": 26,
      "outputs": [
        {
          "output_type": "stream",
          "name": "stdout",
          "text": [
            "First character: M\n",
            "Fifth character: p\n",
            "Second to fifth: trop\n"
          ]
        }
      ]
    },
    {
      "cell_type": "markdown",
      "source": [
        "Tuple and List Conversion: Given a tuple (10, 20, 30), convert it into a list. Append\n",
        "the number 40 to the list. Then, convert the modified list back into a tuple. Print\n",
        "the final tuple"
      ],
      "metadata": {
        "id": "pQ-VaEpsTD36"
      }
    },
    {
      "cell_type": "code",
      "source": [
        "t1 = (10, 20, 30)\n",
        "l1 = list(t1)\n",
        "print(\"List: \", l1)\n",
        "l1.append(40)\n",
        "t2 = tuple(l1)\n",
        "print(\"Tuple: \", t2)"
      ],
      "metadata": {
        "colab": {
          "base_uri": "https://localhost:8080/"
        },
        "id": "JU9xrsKmTG08",
        "outputId": "102d9397-5623-4feb-8d68-874084abd4fa"
      },
      "execution_count": 27,
      "outputs": [
        {
          "output_type": "stream",
          "name": "stdout",
          "text": [
            "List:  [10, 20, 30]\n",
            "Tuple:  (10, 20, 30, 40)\n"
          ]
        }
      ]
    },
    {
      "cell_type": "markdown",
      "source": [
        "Given a string, write a Python function to determine\n",
        "if it is a palindrome. A palindrome reads the same forwards and backwards,\n",
        "ignoring case and spaces (e.g., \"Level\", \"A man, a plan, a canal: Panama\")."
      ],
      "metadata": {
        "id": "uhQfBR49TcIa"
      }
    },
    {
      "cell_type": "code",
      "source": [
        "def is_palindrome(phrase):\n",
        "  normalized_string = \"\".join(char.lower() for char in phrase if char.isalnum())\n",
        "  return normalized_string[:] == normalized_string[::-1]\n",
        "\n",
        "print(\"Level:\", is_palindrome(\"Level\"))\n",
        "print(\"A man, a plan, a canal: Panama\", is_palindrome(\"A man, a plan, a canal: Panama\"))\n"
      ],
      "metadata": {
        "colab": {
          "base_uri": "https://localhost:8080/"
        },
        "id": "J6LwVrBITcaY",
        "outputId": "47ea5c3c-26b5-472c-f194-7ca80c518486"
      },
      "execution_count": 40,
      "outputs": [
        {
          "output_type": "stream",
          "name": "stdout",
          "text": [
            "Level: True\n",
            "A man, a plan, a canal: Panama True\n"
          ]
        }
      ]
    },
    {
      "cell_type": "markdown",
      "source": [
        "Removing Duplicates (Lists): Write a Python program that takes a list which may\n",
        "contain duplicate elements (e.g., [1, 2, 2, 3, 4, 3, 5]) and returns a new list with all\n",
        "duplicates removed, while preserving the original order of the first occurrence of\n",
        "each element."
      ],
      "metadata": {
        "id": "BB7-BCA5XsdT"
      }
    },
    {
      "cell_type": "code",
      "source": [
        "def remove_duplicates(input_list):\n",
        "  seen_elements = set()\n",
        "  result = []\n",
        "  for item in input_list:\n",
        "    if item not in seen_elements:\n",
        "      seen_elements.add(item)\n",
        "      result.append(item)\n",
        "  return result\n",
        "\n",
        "input_list = [1, 2, 2, 3, 4, 3, 5]\n",
        "print(f\"List: {input_list} without duplicates: {remove_duplicates(input_list)}\")"
      ],
      "metadata": {
        "colab": {
          "base_uri": "https://localhost:8080/"
        },
        "id": "kMrPJDV4Xz_Z",
        "outputId": "aa97b70d-b1f1-4b77-c051-35df94ffa529"
      },
      "execution_count": 41,
      "outputs": [
        {
          "output_type": "stream",
          "name": "stdout",
          "text": [
            "List: [1, 2, 2, 3, 4, 3, 5] without duplicates: [1, 2, 3, 4, 5]\n"
          ]
        }
      ]
    },
    {
      "cell_type": "markdown",
      "source": [
        "Given two lists of numbers, write a Python function to find and\n",
        "return a new list containing only the elements that are common to both input\n",
        "lists (their intersection)."
      ],
      "metadata": {
        "id": "_hbGhz-CZRK-"
      }
    },
    {
      "cell_type": "code",
      "source": [
        "a = [1,2,4,5,6,3,9]\n",
        "b = [2,6,5,10]\n",
        "result = set(a).intersection(set(b))\n",
        "list(result)"
      ],
      "metadata": {
        "colab": {
          "base_uri": "https://localhost:8080/"
        },
        "id": "PEACHHD9ZXUS",
        "outputId": "67f01c18-4894-4a74-9acf-3da09a4d67be"
      },
      "execution_count": 48,
      "outputs": [
        {
          "output_type": "execute_result",
          "data": {
            "text/plain": [
              "[2, 5, 6]"
            ]
          },
          "metadata": {},
          "execution_count": 48
        }
      ]
    },
    {
      "cell_type": "markdown",
      "source": [
        "Write a Python program that takes a list\n",
        "of elements (e.g., ['apple', 'banana', 'apple', 'orange', 'banana', 'apple']) and\n",
        "returns a dictionary. The keys of the dictionary should be the unique elements\n",
        "from the list, and the values should be their corresponding frequencies (how\n",
        "many times each element appears)."
      ],
      "metadata": {
        "id": "-IJbZ3BDaGcN"
      }
    },
    {
      "cell_type": "code",
      "source": [
        "fruits = ['apple', 'banana', 'apple', 'orange', 'banana', 'apple']\n",
        "fruits_freq = {}\n",
        "\n",
        "for fruit in fruits:\n",
        "  if fruit in fruits_freq.keys():\n",
        "    fruits_freq[fruit] += 1\n",
        "  else:\n",
        "    fruits_freq[fruit] = 1\n",
        "print(\"Fruits frequency:\", fruits_freq)"
      ],
      "metadata": {
        "colab": {
          "base_uri": "https://localhost:8080/"
        },
        "id": "eZ_keK1KaRAz",
        "outputId": "c52ea2e9-731a-42ca-dc2f-ac8f1e3c0ead"
      },
      "execution_count": 49,
      "outputs": [
        {
          "output_type": "stream",
          "name": "stdout",
          "text": [
            "Fruits frequency: {'apple': 3, 'banana': 2, 'orange': 1}\n"
          ]
        }
      ]
    },
    {
      "cell_type": "markdown",
      "source": [
        "Create a dictionary representing a book with keys 'title',\n",
        "'author', and 'year_published'. Add a new key 'genre' with a string value. Update\n",
        "the value associated with the 'year_published' key. Print the final dictionary."
      ],
      "metadata": {
        "id": "Fs28vYKaaz3Z"
      }
    },
    {
      "cell_type": "code",
      "source": [
        "books = {\"title\": \"xyz\", \"author\": \"xyz\", \"year_published\": 2024}\n",
        "print(\"Books:\", books)\n",
        "books[\"genre\"] = \"Fiction\"\n",
        "books[\"year_published\"] = 2012\n",
        "print(\"Books changed:\", books)"
      ],
      "metadata": {
        "colab": {
          "base_uri": "https://localhost:8080/"
        },
        "id": "B5bU7ASAa0D5",
        "outputId": "a7e24fd2-863c-451b-fc25-b7998fe4e332"
      },
      "execution_count": 50,
      "outputs": [
        {
          "output_type": "stream",
          "name": "stdout",
          "text": [
            "Books: {'title': 'xyz', 'author': 'xyz', 'year_published': 2024}\n",
            "Books changed: {'title': 'xyz', 'author': 'xyz', 'year_published': 2012, 'genre': 'Fiction'}\n"
          ]
        }
      ]
    },
    {
      "cell_type": "markdown",
      "source": [
        "Given a list of dictionaries, where each dictionary\n",
        "represents a product with keys 'name' (string) and 'price' (float), calculate and\n",
        "print the total price of all products in the list."
      ],
      "metadata": {
        "id": "Ea3KRTZ0byrh"
      }
    },
    {
      "cell_type": "code",
      "source": [
        "items_list = [{\"name\": \"item1\", \"price\": 30.5},\n",
        "              {\"name\": \"item2\", \"price\": 89.3},\n",
        "              {\"name\": \"item3\", \"price\": 45.92}]\n",
        "\n",
        "total_price = 0\n",
        "for item in items_list:\n",
        "  total_price += item[\"price\"]\n",
        "print(\"Total price:\", total_price)"
      ],
      "metadata": {
        "colab": {
          "base_uri": "https://localhost:8080/"
        },
        "id": "xw36J9Ciby_F",
        "outputId": "d05154e1-5c63-4b8f-e098-f39c08792e9e"
      },
      "execution_count": 51,
      "outputs": [
        {
          "output_type": "stream",
          "name": "stdout",
          "text": [
            "Total price: 165.72\n"
          ]
        }
      ]
    },
    {
      "cell_type": "markdown",
      "source": [
        "Write a Python program that takes a year as input from the user\n",
        "and determines if it is a leap year. Print \"Leap year\" or \"Not a leap year\". (A year is\n",
        "a leap year if it is divisible by 4, except for years divisible by 100 but not by 400)."
      ],
      "metadata": {
        "id": "YLtofyQ9cn7z"
      }
    },
    {
      "cell_type": "code",
      "source": [
        "year = int(input(\"Enter year as input: \"))\n",
        "if (year % 4 == 0 and year % 100 != 0) or (year % 400 == 0):\n",
        "  print(\"Leap year\")\n",
        "else:\n",
        "  print(\"Not a leap year\")"
      ],
      "metadata": {
        "colab": {
          "base_uri": "https://localhost:8080/"
        },
        "id": "X7pSijEGcr2V",
        "outputId": "f326b422-eb8a-4e24-b8b2-189160b26163"
      },
      "execution_count": 59,
      "outputs": [
        {
          "output_type": "stream",
          "name": "stdout",
          "text": [
            "Enter year as input: 3000\n",
            "Not a leap year\n"
          ]
        }
      ]
    },
    {
      "cell_type": "markdown",
      "source": [
        "Ask the user to enter an integer. Use a simple if-else statement to\n",
        "check if the number is even or odd and print the result."
      ],
      "metadata": {
        "id": "4kOH_irkd2PV"
      }
    },
    {
      "cell_type": "code",
      "source": [
        "number = int(input(\"Enter number: \"))\n",
        "if number % 2 == 0:\n",
        "  print(\"Even\")\n",
        "else:\n",
        "  print(\"Odd\")"
      ],
      "metadata": {
        "colab": {
          "base_uri": "https://localhost:8080/"
        },
        "id": "uDcy03M2d6Hv",
        "outputId": "35a1ef4c-6ab8-442b-dccf-a70eb3bac169"
      },
      "execution_count": 61,
      "outputs": [
        {
          "output_type": "stream",
          "name": "stdout",
          "text": [
            "Enter number: 23\n",
            "Odd\n"
          ]
        }
      ]
    },
    {
      "cell_type": "markdown",
      "source": [
        "Ask the user to enter an integer. Use and and comparison\n",
        "operators to check if the number is greater than 10 AND less than 20. Print a\n",
        "message indicating whether the condition is True or False."
      ],
      "metadata": {
        "id": "jE45lanOePNY"
      }
    },
    {
      "cell_type": "code",
      "source": [
        "number = int(input(\"Enter number: \"))\n",
        "if number > 10 and number < 20:\n",
        "  print(\"Condition true\")\n",
        "else:\n",
        "  print(\"Condition false\")"
      ],
      "metadata": {
        "colab": {
          "base_uri": "https://localhost:8080/"
        },
        "id": "aUAcBiBTeR1C",
        "outputId": "38b723bd-b833-422d-cb83-710657c2b3e8"
      },
      "execution_count": 64,
      "outputs": [
        {
          "output_type": "stream",
          "name": "stdout",
          "text": [
            "Enter number: 12\n",
            "Condition true\n"
          ]
        }
      ]
    },
    {
      "cell_type": "markdown",
      "source": [
        "Given a positive integer input from the user, write a program using\n",
        "a loop (while or for) to calculate and print the sum of its digits."
      ],
      "metadata": {
        "id": "4WqE_xJLekVI"
      }
    },
    {
      "cell_type": "code",
      "source": [
        "number = int(input(\"Enter number: \"))\n",
        "sum = 0\n",
        "while number > 0:\n",
        "  sum += number%10\n",
        "  number //= 10\n",
        "print(\"Sum of numbers:\", sum)"
      ],
      "metadata": {
        "colab": {
          "base_uri": "https://localhost:8080/"
        },
        "id": "aFEc3GmPfGsa",
        "outputId": "cf2678af-734f-43ed-bba5-a0b2b277387d"
      },
      "execution_count": 69,
      "outputs": [
        {
          "output_type": "stream",
          "name": "stdout",
          "text": [
            "Enter number: 2783919\n",
            "Sum of numbers: 39\n"
          ]
        }
      ]
    },
    {
      "cell_type": "markdown",
      "source": [
        "Given an integer greater than 1 as input from the user, write a\n",
        "Python function to find and print all of its prime factors. For example, if the input\n",
        "is 12, the output should show the prime factors 2, 2, and 3."
      ],
      "metadata": {
        "id": "wE_xGXWwpDqq"
      }
    },
    {
      "cell_type": "code",
      "source": [
        "def prime_factors(n):\n",
        "  i = 2\n",
        "  factors = []\n",
        "  # check until sqrt of n\n",
        "  while i * i <= n:\n",
        "    if n % i: # not divisible\n",
        "      i += 1\n",
        "    else:\n",
        "      factors.append(i) # should be prime\n",
        "      n //= i\n",
        "  # residue after prime factorization\n",
        "  if n > 0:\n",
        "    factors.append(n)\n",
        "  return factors\n",
        "\n",
        "number = int(input(\"Enter number: \"))\n",
        "factors = prime_factors(number)\n",
        "print(f\"Prime Factors of {number} are {factors}\")\n"
      ],
      "metadata": {
        "colab": {
          "base_uri": "https://localhost:8080/"
        },
        "id": "LGItNDmspJPk",
        "outputId": "ba0d44ef-fd6b-489c-aaf9-63db42480f7a"
      },
      "execution_count": 76,
      "outputs": [
        {
          "output_type": "stream",
          "name": "stdout",
          "text": [
            "Enter number: 12\n",
            "Prime Factors of 12 are [2, 2, 3]\n"
          ]
        }
      ]
    },
    {
      "cell_type": "markdown",
      "source": [
        "Write a Python function to calculate the factorial of a\n",
        "non-negative integer using recursion. The factorial of a number n is the product\n",
        "of all positive integers1 less than or equal to n"
      ],
      "metadata": {
        "id": "tpXDzjy0rrSr"
      }
    },
    {
      "cell_type": "code",
      "source": [
        "def factorial(n):\n",
        "  if n == 0:\n",
        "    return 1\n",
        "  if n == 1:\n",
        "    return 1\n",
        "  return n * factorial(n-1)\n",
        "\n",
        "n = int(input(\"Enter number: \"))\n",
        "print(f\"Factorial of {n} is {factorial(n)}\")"
      ],
      "metadata": {
        "colab": {
          "base_uri": "https://localhost:8080/"
        },
        "id": "Oc3PA7YzrsF_",
        "outputId": "fa77feba-5228-40be-c804-2a2238fdcb44"
      },
      "execution_count": 79,
      "outputs": [
        {
          "output_type": "stream",
          "name": "stdout",
          "text": [
            "Enter number: 5\n",
            "Factorial of 5 is 120\n"
          ]
        }
      ]
    },
    {
      "cell_type": "markdown",
      "source": [
        " Write a Python function to calculate the binomial\n",
        "coefficient nCr=fracnr(n−r) given non-negative integers n and r as input, where\n",
        "nger. You can use a helper function (recursive or iterative) to calculate factorials."
      ],
      "metadata": {
        "id": "0qJIMavnsPE-"
      }
    },
    {
      "cell_type": "code",
      "source": [
        "#  nCr = n! / (r! * (n-r)!)\n",
        "def binomial_coefficient(n,r):\n",
        "  return factorial(n) / (factorial(r) * factorial(n-r))\n",
        "\n",
        "n = int(input(\"Enter n: \"))\n",
        "r = int(input(\"Enter r: \"))\n",
        "print(f\"Binomial coefficient with n: {n} and r: {r} is {binomial_coefficient(n,r)} \")"
      ],
      "metadata": {
        "colab": {
          "base_uri": "https://localhost:8080/"
        },
        "id": "y7y3pWVmsRxO",
        "outputId": "8d69583c-feb0-4117-f103-5c9694bd3690"
      },
      "execution_count": 80,
      "outputs": [
        {
          "output_type": "stream",
          "name": "stdout",
          "text": [
            "Enter n: 5\n",
            "Enter r: 2\n",
            "Binomial coefficient with n: 5 and r: 2 is 10.0 \n"
          ]
        }
      ]
    },
    {
      "cell_type": "markdown",
      "source": [
        "Given a sorted list of numbers and a target value, write\n",
        "a function to perform a linear search to find the index of the target value. Write\n",
        "another function to perform a binary search for the same purpose. Return -1 if\n",
        "the target is not found in either function."
      ],
      "metadata": {
        "id": "fpmSO49stCE1"
      }
    },
    {
      "cell_type": "code",
      "source": [
        "def linear_search(input_list, target):\n",
        "  for i in range(0, len(input_list)):\n",
        "    if(target == input_list[i]):\n",
        "      return i\n",
        "  return -1\n",
        "\n",
        "def binary_search(input_list, target):\n",
        "  low_index = 0\n",
        "  high_index = len(input_list) - 1\n",
        "\n",
        "  while(low_index <= high_index):\n",
        "    mid_index = (low_index + high_index) // 2\n",
        "    if input_list[mid_index] == target:\n",
        "      return mid_index\n",
        "    elif input_list[mid_index] < target:\n",
        "      low_index = mid_index + 1\n",
        "    else:\n",
        "      high_index = mid_index - 1\n",
        "\n",
        "  return -1  # not found till this point\n",
        "\n",
        "a = [1, 2, 3, 4, 5, 7, 8, 9, 11]\n",
        "print(f\"Target 2 at index: \", linear_search(a, 2))\n",
        "print(f\"Target 5 at index: \", linear_search(a, 5))\n",
        "print(f\"Target 2 at index: \", binary_search(a, 2))\n",
        "print(f\"Target 7 at index: \", binary_search(a, 7))\n",
        "print(f\"Target 15 at index: \", binary_search(a, 15))"
      ],
      "metadata": {
        "colab": {
          "base_uri": "https://localhost:8080/"
        },
        "id": "rVjwQsVKtHqo",
        "outputId": "9ebc9f1b-c78a-42c3-a85e-2fd6f1e5f619"
      },
      "execution_count": 88,
      "outputs": [
        {
          "output_type": "stream",
          "name": "stdout",
          "text": [
            "Target 2 at index:  1\n",
            "Target 5 at index:  4\n",
            "Target 2 at index:  1\n",
            "Target 7 at index:  5\n",
            "Target 15 at index:  -1\n"
          ]
        }
      ]
    },
    {
      "cell_type": "markdown",
      "source": [
        "Write a program using a for loop and the range() function to\n",
        "calculate and print the sum of all integers from 1 to 50 (inclusive)."
      ],
      "metadata": {
        "id": "tYEUEttSwifX"
      }
    },
    {
      "cell_type": "code",
      "source": [
        "sum = 0\n",
        "for i in range(1,51):\n",
        "  sum += i\n",
        "print(f\"Sum of numbers from 1-50 is {sum}\")"
      ],
      "metadata": {
        "colab": {
          "base_uri": "https://localhost:8080/"
        },
        "id": "PRLcy-GXwomC",
        "outputId": "bc57e4b7-cd47-448f-dc98-ce02f9c29938"
      },
      "execution_count": 89,
      "outputs": [
        {
          "output_type": "stream",
          "name": "stdout",
          "text": [
            "Sum of numbers from 1-50 is 1275\n"
          ]
        }
      ]
    },
    {
      "cell_type": "markdown",
      "source": [
        "Write a program that asks the user for two\n",
        "numbers. Perform division of the first number by the second. Use a try-except\n",
        "block to specifically handle the ZeroDivisionError if the second number is zero,\n",
        "and print an appropriate message."
      ],
      "metadata": {
        "id": "IbuXMC-2w1ud"
      }
    },
    {
      "cell_type": "code",
      "source": [
        "a = int(input(\"Enter number a: \"))\n",
        "b = int(input(\"Enter number b: \"))\n",
        "try:\n",
        "  print(f\"Division a/b is {a/b}\")\n",
        "except ZeroDivisionError as ex:\n",
        "  print(\"Cannot divide by 0\")"
      ],
      "metadata": {
        "colab": {
          "base_uri": "https://localhost:8080/"
        },
        "id": "TvWDQYlFw180",
        "outputId": "2c9b6c74-fae2-43c1-cec7-d136149322cc"
      },
      "execution_count": 91,
      "outputs": [
        {
          "output_type": "stream",
          "name": "stdout",
          "text": [
            "Enter number a: 5\n",
            "Enter number b: 2\n",
            "Division a/b is 2.5\n"
          ]
        }
      ]
    },
    {
      "cell_type": "markdown",
      "source": [
        "Given a positive integer and its order (number of\n",
        "digits) as input from the user, write a program to check if it is an Armstrong\n",
        "number. An Armstrong number of order n is a number that is equal to the sum of\n",
        "its own digits each raised to the power of n. Example: 153=13+53+33."
      ],
      "metadata": {
        "id": "W1hrXIKoxbP7"
      }
    },
    {
      "cell_type": "code",
      "source": [
        "def is_armstrong(n):\n",
        "  temp = n\n",
        "  sum = 0\n",
        "  while temp > 0:\n",
        "    sum += (temp % 10)**3\n",
        "    temp //= 10\n",
        "  return sum == n\n",
        "\n",
        "number = int(input(\"Enter number: \"))\n",
        "print(f\"Is {number} armstrong: {is_armstrong(number)}\")\n"
      ],
      "metadata": {
        "colab": {
          "base_uri": "https://localhost:8080/"
        },
        "id": "ssdWPMSNxds-",
        "outputId": "d063df84-e175-49b5-9435-4293d97ee475"
      },
      "execution_count": 96,
      "outputs": [
        {
          "output_type": "stream",
          "name": "stdout",
          "text": [
            "Enter number: 78\n",
            "Is 78 armstrong: False\n"
          ]
        }
      ]
    },
    {
      "cell_type": "markdown",
      "source": [
        "Write a program that takes a text file path as input\n",
        "from the user. Read the content of the file, count the frequency of each word\n",
        "(treating words case-insensitively and ignoring common punctuation like\n",
        "periods, commas, exclamation marks, and question marks). Print the frequency\n",
        "count for each unique word and then identify and print the top 3 most frequent\n",
        "words in the file. (Requires file I/O, string manipulation, dictionary usage, and\n",
        "sorting/finding max)."
      ],
      "metadata": {
        "id": "JiG_wX8JyUFu"
      }
    },
    {
      "cell_type": "code",
      "source": [
        "import string\n",
        "\n",
        "def write_file(file_path):\n",
        "  with open(file_path, \"w\") as file:\n",
        "    file.write(\"This is a Sample document.\\n\")\n",
        "    file.write(\"This Document, contains sample text.\\n\")\n",
        "    file.write(\"Sample text is repeated!\\n\")\n",
        "\n",
        "def read_words_without_punctuation(file_path):\n",
        "  with open(file_path, \"r\") as file:\n",
        "    contents = file.read()\n",
        "    contents_without_punctuation = \"\".join([char.lower() for char in contents if char not in string.punctuation])\n",
        "    return contents_without_punctuation.split()\n",
        "\n",
        "def count_freq(words):\n",
        "  word_freq = {}\n",
        "  for word in words:\n",
        "    if word in word_freq.keys():\n",
        "      word_freq[word] += 1\n",
        "    else:\n",
        "      word_freq[word] = 1\n",
        "  return word_freq\n",
        "\n",
        "def find_top_three_words(word_freq):\n",
        "  sorted_list = sorted(word_freq.items(), key = lambda x:(x[1], x[0]), reverse = True) # to sort by value\n",
        "  return list(dict(sorted_list[:3]).keys())\n",
        "\n",
        "file_name = input(\"Enter file name: \")\n",
        "write_file(file_name)\n",
        "words = read_words_without_punctuation(file_name)\n",
        "word_freq = count_freq(words)\n",
        "print(f\"Top three frequent words: {find_top_three_words(word_freq)} \")\n"
      ],
      "metadata": {
        "colab": {
          "base_uri": "https://localhost:8080/"
        },
        "id": "62YJrm-dyWOK",
        "outputId": "fa25d61b-6206-48d7-c271-7a38d4294a93"
      },
      "execution_count": 137,
      "outputs": [
        {
          "output_type": "stream",
          "name": "stdout",
          "text": [
            "Enter file name: f1.txt\n",
            "Top three frequent words: ['sample', 'this', 'text'] \n"
          ]
        }
      ]
    }
  ]
}