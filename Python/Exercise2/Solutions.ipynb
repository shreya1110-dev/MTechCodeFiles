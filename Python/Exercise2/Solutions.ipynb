{
  "nbformat": 4,
  "nbformat_minor": 0,
  "metadata": {
    "colab": {
      "provenance": [],
      "authorship_tag": "ABX9TyOV85WCCU+ZtXOkQ16zQ5Hq",
      "include_colab_link": true
    },
    "kernelspec": {
      "name": "python3",
      "display_name": "Python 3"
    },
    "language_info": {
      "name": "python"
    }
  },
  "cells": [
    {
      "cell_type": "markdown",
      "metadata": {
        "id": "view-in-github",
        "colab_type": "text"
      },
      "source": [
        "<a href=\"https://colab.research.google.com/github/shreya1110-dev/MTechCodeFiles/blob/main/Python/Exercise2/Solutions.ipynb\" target=\"_parent\"><img src=\"https://colab.research.google.com/assets/colab-badge.svg\" alt=\"Open In Colab\"/></a>"
      ]
    },
    {
      "cell_type": "markdown",
      "source": [
        "Write a Python function to find the factorial of a number using recursion"
      ],
      "metadata": {
        "id": "bV3ZjmgEq0MS"
      }
    },
    {
      "cell_type": "code",
      "execution_count": 2,
      "metadata": {
        "colab": {
          "base_uri": "https://localhost:8080/"
        },
        "id": "HiWJmm11qxYC",
        "outputId": "3056a737-43b2-4821-f55d-0c2284c2bf4b"
      },
      "outputs": [
        {
          "output_type": "stream",
          "name": "stdout",
          "text": [
            "Factorial: 120\n"
          ]
        }
      ],
      "source": [
        "def factorial(n):\n",
        "  if n==0:\n",
        "    return 1\n",
        "  if n==1:\n",
        "    return 1\n",
        "  return n * factorial(n-1)\n",
        "\n",
        "print(f\"Factorial: {factorial(5)}\")"
      ]
    },
    {
      "cell_type": "markdown",
      "source": [
        "Given two lists, write a Python function to find the intersection (common elements) of the\n",
        "lists"
      ],
      "metadata": {
        "id": "nczXfpLZrQJ9"
      }
    },
    {
      "cell_type": "code",
      "source": [
        "a = [1, 2, 3, 4]\n",
        "b = [3, 4, 5, 6]\n",
        "\n",
        "print(\"Intersection: \", list(set(a).intersection(set(b))))"
      ],
      "metadata": {
        "colab": {
          "base_uri": "https://localhost:8080/"
        },
        "id": "3rTNXeCErYeI",
        "outputId": "5aa8b610-4c85-4ed7-88ab-1a5a6a4f2130"
      },
      "execution_count": 4,
      "outputs": [
        {
          "output_type": "stream",
          "name": "stdout",
          "text": [
            "Intersection:  [3, 4]\n"
          ]
        }
      ]
    },
    {
      "cell_type": "markdown",
      "source": [
        "Write a Python program to count the frequency of each element in a list."
      ],
      "metadata": {
        "id": "_brO7HZkrrt1"
      }
    },
    {
      "cell_type": "code",
      "source": [
        "a = [1, 2, 2, 3, 3, 3, 4]\n",
        "num_freq = {}\n",
        "for num in a:\n",
        "  if num in num_freq.keys():\n",
        "    num_freq[num] += 1\n",
        "  else:\n",
        "    num_freq[num] = 1\n",
        "print(\"Number frequency:\", num_freq)"
      ],
      "metadata": {
        "colab": {
          "base_uri": "https://localhost:8080/"
        },
        "id": "FYuVfB71rq1e",
        "outputId": "42f9380e-6e21-4555-bfec-f2aa754f7add"
      },
      "execution_count": 6,
      "outputs": [
        {
          "output_type": "stream",
          "name": "stdout",
          "text": [
            "Number frequency: {1: 1, 2: 2, 3: 3, 4: 1}\n"
          ]
        }
      ]
    },
    {
      "cell_type": "markdown",
      "source": [
        "Write a Python program to remove duplicates from a list while preserving the original\n",
        "order."
      ],
      "metadata": {
        "id": "YYRAXBv8sOIN"
      }
    },
    {
      "cell_type": "code",
      "source": [
        "a = [1, 2, 2, 3, 4, 3]\n",
        "seen_numbers = set()\n",
        "result = []\n",
        "\n",
        "for num in a:\n",
        "  if num in seen_numbers:\n",
        "    continue\n",
        "  seen_numbers.add(num)\n",
        "  result.append(num)\n",
        "\n",
        "print(\"List without duplicates:\", result)"
      ],
      "metadata": {
        "colab": {
          "base_uri": "https://localhost:8080/"
        },
        "id": "jFg2uzFlsSWz",
        "outputId": "f06513b5-9922-49f5-9687-33fa54437565"
      },
      "execution_count": 9,
      "outputs": [
        {
          "output_type": "stream",
          "name": "stdout",
          "text": [
            "List without duplicates: [1, 2, 3, 4]\n"
          ]
        }
      ]
    },
    {
      "cell_type": "markdown",
      "source": [
        "Write a Python function to calculate nCr (binomial coefficient) using the formula\n",
        "nCr=n!r!(n−r)!nCr = \\frac{n!}{r!(n-r)!}nCr=r!(n−r)!n!"
      ],
      "metadata": {
        "id": "4Q7Piu34sz1b"
      }
    },
    {
      "cell_type": "code",
      "source": [
        "def binomial_coefficient(n,r):\n",
        "  return factorial(n) / factorial(n-r) * factorial(r)\n",
        "\n",
        "print(\"Binomial coefficient:\", binomial_coefficient(5,3))"
      ],
      "metadata": {
        "colab": {
          "base_uri": "https://localhost:8080/"
        },
        "id": "04aFmdm0s2ja",
        "outputId": "ba5acd4a-8e8a-4107-ed21-96ab53214651"
      },
      "execution_count": 10,
      "outputs": [
        {
          "output_type": "stream",
          "name": "stdout",
          "text": [
            "Binomial coefficient: 360.0\n"
          ]
        }
      ]
    },
    {
      "cell_type": "markdown",
      "source": [
        "Write a Python function that takes a string as input and returns the string reversed"
      ],
      "metadata": {
        "id": "_66f858StHhu"
      }
    },
    {
      "cell_type": "code",
      "source": [
        "a = \"hello\"\n",
        "print(\"Reversed:\", a[::-1])"
      ],
      "metadata": {
        "colab": {
          "base_uri": "https://localhost:8080/"
        },
        "id": "ohWpl3iKtJW4",
        "outputId": "83595db6-a67e-44db-c29c-4cd33805f3de"
      },
      "execution_count": 12,
      "outputs": [
        {
          "output_type": "stream",
          "name": "stdout",
          "text": [
            "Reversed: olleh\n"
          ]
        }
      ]
    },
    {
      "cell_type": "markdown",
      "source": [
        "Write a Python program to check if a given year is a leap year or not"
      ],
      "metadata": {
        "id": "_QK27E-9tTU5"
      }
    },
    {
      "cell_type": "code",
      "source": [
        "def is_leap(year):\n",
        "  if (year % 4 == 0 and year % 100 != 0) or year % 400 == 0:\n",
        "    return True\n",
        "  return False\n",
        "\n",
        "year = 2020\n",
        "print(f\"Is {year} leap year: {is_leap(year)}\")"
      ],
      "metadata": {
        "colab": {
          "base_uri": "https://localhost:8080/"
        },
        "id": "fs7WrJ9RtU7g",
        "outputId": "af4c33ba-3b5d-430b-ccf7-c563ec728829"
      },
      "execution_count": 13,
      "outputs": [
        {
          "output_type": "stream",
          "name": "stdout",
          "text": [
            "Is 2020 leap year: True\n"
          ]
        }
      ]
    },
    {
      "cell_type": "markdown",
      "source": [
        "Write a Python function to count the number of vowels in a given string."
      ],
      "metadata": {
        "id": "-RVu8OyLtth6"
      }
    },
    {
      "cell_type": "code",
      "source": [
        "def count_vowels(input_string):\n",
        "  cnt = 0\n",
        "  vowels = ['a', 'e', 'i', 'o', 'u']\n",
        "  for c in input_string:\n",
        "    if c in vowels:\n",
        "      cnt += 1\n",
        "  return cnt\n",
        "\n",
        "input_string = \"hello world\"\n",
        "print(f\"Number of vowels in {input_string} is {count_vowels(input_string)}\")"
      ],
      "metadata": {
        "colab": {
          "base_uri": "https://localhost:8080/"
        },
        "id": "W7xvo0EhtwVb",
        "outputId": "e5759175-1b77-4183-e582-6e91ec60e565"
      },
      "execution_count": 14,
      "outputs": [
        {
          "output_type": "stream",
          "name": "stdout",
          "text": [
            "Number of vowels in hello world is 3\n"
          ]
        }
      ]
    },
    {
      "cell_type": "markdown",
      "source": [
        "Write a Python function that takes a list of integers and returns a tuple containing the\n",
        "maximum and minimum values from the list"
      ],
      "metadata": {
        "id": "AnDeM96RuLQ-"
      }
    },
    {
      "cell_type": "code",
      "source": [
        "a = [1,2,3,4,5]\n",
        "print(\"Max and min:\",(max(a), min(a)))"
      ],
      "metadata": {
        "colab": {
          "base_uri": "https://localhost:8080/"
        },
        "id": "Yt19fpzCuLbY",
        "outputId": "175739d6-3f2f-4e1a-db56-49103e4c2218"
      },
      "execution_count": 15,
      "outputs": [
        {
          "output_type": "stream",
          "name": "stdout",
          "text": [
            "Max and min: (5, 1)\n"
          ]
        }
      ]
    },
    {
      "cell_type": "markdown",
      "source": [
        "Write a Python function that takes a list of integers and returns the sum of all the even\n",
        "numbers in the list."
      ],
      "metadata": {
        "id": "5EyFYI_0uaki"
      }
    },
    {
      "cell_type": "code",
      "source": [
        "a = [1, 2, 3, 4, 5]\n",
        "sum_even = 0\n",
        "for num in a:\n",
        "  if num % 2 == 0:\n",
        "    sum_even += num\n",
        "\n",
        "print(f\"Sum of even numbers: {sum_even}\")"
      ],
      "metadata": {
        "colab": {
          "base_uri": "https://localhost:8080/"
        },
        "id": "EVIoAz7fulp-",
        "outputId": "5ee16db6-cdcb-4dd8-dbe0-a649ac1323a9"
      },
      "execution_count": 16,
      "outputs": [
        {
          "output_type": "stream",
          "name": "stdout",
          "text": [
            "Sum of even numbers: 6\n"
          ]
        }
      ]
    },
    {
      "cell_type": "markdown",
      "source": [
        "Write a Python function that takes a list of integers and returns the second largest element\n",
        "in the list. If there is no second largest, return None"
      ],
      "metadata": {
        "id": "G7HxqtHsu43H"
      }
    },
    {
      "cell_type": "code",
      "source": [
        "a = [3, 5, 2, 1, 9]\n",
        "b = [5, 5, 5]\n",
        "\n",
        "def second_largest_element(input_list):\n",
        "  unique_list = sorted(list(set(input_list)), reverse = True)\n",
        "  return unique_list[1] if len(unique_list) > 1 else None\n",
        "\n",
        "print(f\"Second largest element of {a} is {second_largest_element(a)}\")\n",
        "print(f\"Second largest element of {b} is {second_largest_element(b)}\")"
      ],
      "metadata": {
        "colab": {
          "base_uri": "https://localhost:8080/"
        },
        "id": "x1Pzv8yJu8e-",
        "outputId": "c8878520-ca82-4a06-85d5-37b1b824ba49"
      },
      "execution_count": 39,
      "outputs": [
        {
          "output_type": "stream",
          "name": "stdout",
          "text": [
            "Second largest element of [3, 5, 2, 1, 9] is 5\n",
            "Second largest element of [5, 5, 5] is None\n"
          ]
        }
      ]
    },
    {
      "cell_type": "markdown",
      "source": [
        "Write a Python function that removes all whitespace characters (spaces, tabs, etc.) from a\n",
        "string."
      ],
      "metadata": {
        "id": "ueUdNtWC0XIn"
      }
    },
    {
      "cell_type": "code",
      "source": [
        "a = \"hello world\"\n",
        "print(\"Word without spaces:\",\"\".join([char for char in a if not char.isspace()]))"
      ],
      "metadata": {
        "colab": {
          "base_uri": "https://localhost:8080/"
        },
        "id": "bwzwebrl0Zv2",
        "outputId": "81271926-563d-41ae-c5a5-37b33201120c"
      },
      "execution_count": 45,
      "outputs": [
        {
          "output_type": "stream",
          "name": "stdout",
          "text": [
            "Word without spaces: helloworld\n"
          ]
        }
      ]
    },
    {
      "cell_type": "markdown",
      "source": [
        "Write a Python function that takes a string and returns the length of the longest word in\n",
        "the string."
      ],
      "metadata": {
        "id": "CPSRZvAx13YA"
      }
    },
    {
      "cell_type": "code",
      "source": [
        "def length_of_longest_word(sentence):\n",
        "  word_lengths = [len(word) for word in sentence.split()]\n",
        "  return max(word_lengths)\n",
        "\n",
        "sentence = \"The quick brown fox\"\n",
        "print(f\"Length of longest word: {length_of_longest_word(sentence)}\")"
      ],
      "metadata": {
        "colab": {
          "base_uri": "https://localhost:8080/"
        },
        "id": "ke96sQsJ17v8",
        "outputId": "4e6531e1-1b6f-474d-bbec-d5567da5a5e4"
      },
      "execution_count": 49,
      "outputs": [
        {
          "output_type": "stream",
          "name": "stdout",
          "text": [
            "Length of longest word: 5\n"
          ]
        }
      ]
    },
    {
      "cell_type": "markdown",
      "source": [
        "Write a Python function that prints the multiplication table for a given number from 1 to\n",
        "10."
      ],
      "metadata": {
        "id": "yE2n2wOy3Guo"
      }
    },
    {
      "cell_type": "code",
      "source": [
        "num = 3\n",
        "for i in range(1, 11):\n",
        "  print(f\"{num} * {i} = {num*i}\")"
      ],
      "metadata": {
        "colab": {
          "base_uri": "https://localhost:8080/"
        },
        "id": "GllavFS73J6b",
        "outputId": "3aaa0cf8-729f-42d5-b85f-04d40d10566e"
      },
      "execution_count": 50,
      "outputs": [
        {
          "output_type": "stream",
          "name": "stdout",
          "text": [
            "3 * 1 = 3\n",
            "3 * 2 = 6\n",
            "3 * 3 = 9\n",
            "3 * 4 = 12\n",
            "3 * 5 = 15\n",
            "3 * 6 = 18\n",
            "3 * 7 = 21\n",
            "3 * 8 = 24\n",
            "3 * 9 = 27\n",
            "3 * 10 = 30\n"
          ]
        }
      ]
    },
    {
      "cell_type": "markdown",
      "source": [
        "Write a Python function that prints all prime numbers between start and end (inclusive)"
      ],
      "metadata": {
        "id": "UeNcpzKq3YzY"
      }
    },
    {
      "cell_type": "code",
      "source": [
        "start_num = 10\n",
        "end_num = 20\n",
        "\n",
        "def is_prime(num):\n",
        "  j = 2\n",
        "  while(j * j <= num):\n",
        "    if num % j == 0: # factors\n",
        "      num /= j\n",
        "      return False\n",
        "    j += 1\n",
        "  return True\n",
        "\n",
        "def get_prime_numbers_in_range(start, end):\n",
        "  return [i for i in range(start_num, end_num+1) if is_prime(i)]\n",
        "\n",
        "print(\"Prime numbers in range:\", get_prime_numbers_in_range(10, 20))"
      ],
      "metadata": {
        "colab": {
          "base_uri": "https://localhost:8080/"
        },
        "id": "Wrt-zYAY3aJ1",
        "outputId": "2d4dd8b0-ec24-472a-d8ab-37d29ceb9227"
      },
      "execution_count": 61,
      "outputs": [
        {
          "output_type": "stream",
          "name": "stdout",
          "text": [
            "Prime numbers in range: [11, 13, 17, 19]\n"
          ]
        }
      ]
    }
  ]
}